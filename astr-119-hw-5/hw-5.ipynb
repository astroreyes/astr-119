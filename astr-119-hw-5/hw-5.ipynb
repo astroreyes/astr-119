{
 "cells": [
  {
   "cell_type": "markdown",
   "id": "alleged-metabolism",
   "metadata": {},
   "source": [
    "# Homework #5"
   ]
  },
  {
   "cell_type": "markdown",
   "id": "sixth-closer",
   "metadata": {},
   "source": [
    "In this assignment, we will write a code that numerically integrates a function of the form:\n",
    "\n",
    "                        f(x) = e^(-2x) * cos(10x)\n",
    "                        \n",
    "                        from [0,pi]\n",
    "                        \n",
    "In order to do this, we will use the Trapezoid method, the Simpson's method and the Romberg Integration method with a tolerance of 1.0e-6."
   ]
  },
  {
   "cell_type": "code",
   "execution_count": null,
   "id": "finnish-saint",
   "metadata": {},
   "outputs": [],
   "source": [
    "#Import numpy and matplotlib as usual:\n",
    "%matplotlib inline\n",
    "import numpy as np\n",
    "import matplotlib.pyplot as plt"
   ]
  },
  {
   "cell_type": "code",
   "execution_count": null,
   "id": "pressed-orange",
   "metadata": {},
   "outputs": [],
   "source": [
    "#Next we will define the function that we will take the integral for\n",
    "def func(x):\n",
    "    f = np.exp(-2*x)\n",
    "    g = np.cos(10*x)\n",
    "    return f*g"
   ]
  },
  {
   "cell_type": "code",
   "execution_count": null,
   "id": "specific-camping",
   "metadata": {},
   "outputs": [],
   "source": [
    "#Now, we will define the integral of the function, so that we can compare\n",
    "##it with the right answer\n",
    "def fun_integral(x):\n",
    "    f = np.exp(-2*x)\n",
    "    g = np.cos(10*x)\n",
    "    h = np.sin(10*x)\n",
    "    return (-1/52)*f*(g-(5*h))"
   ]
  },
  {
   "cell_type": "markdown",
   "id": "earned-junction",
   "metadata": {},
   "source": [
    "### TRAPEZOID METHOD"
   ]
  },
  {
   "cell_type": "code",
   "execution_count": null,
   "id": "built-contrast",
   "metadata": {},
   "outputs": [],
   "source": [
    "#This function will define the core of the Trapezoid method\n",
    "def trap_core(f,x,h):\n",
    "    return 0.5*h*(f(x*h)+f(x))"
   ]
  },
  {
   "cell_type": "code",
   "execution_count": null,
   "id": "colored-ferry",
   "metadata": {},
   "outputs": [],
   "source": [
    "#This function will perform the Trapezoid method\n",
    "def trap_method(f,a,b,N):\n",
    "    # f == function that will be integrated\n",
    "    # a == lower limit of integration\n",
    "    # b == upper limit of integration\n",
    "    # N == number of function evaluations to use\n",
    "    \n",
    "    #first, define the x values to perform trapezoid rule\n",
    "    x = np.linspace(a,b,N)\n",
    "    h = x[1]-x[0]\n",
    "    \n",
    "    #then define the value of the integral\n",
    "    Fint = 0.0\n",
    "    \n",
    "    #perform the integral using the trapezoid method:\n",
    "    for i in range(0,len(x)-1,1):\n",
    "        Fint += trap_core(f,x[i],h)\n",
    "    #return your answer\n",
    "    return Fint"
   ]
  },
  {
   "cell_type": "markdown",
   "id": "continued-significance",
   "metadata": {},
   "source": [
    "### SIMPSON'S METHOD"
   ]
  },
  {
   "cell_type": "code",
   "execution_count": null,
   "id": "front-position",
   "metadata": {},
   "outputs": [],
   "source": [
    "#Similarly to the trapezoid method, first we will define the core of the\n",
    "##Simpson's Method\n",
    "def simp_core(f,x,h):\n",
    "    return h*(f(x) + 4*f(x+h) + f(x+2*h))/3"
   ]
  },
  {
   "cell_type": "code",
   "execution_count": null,
   "id": "suspended-allocation",
   "metadata": {},
   "outputs": [],
   "source": [
    "#We will define the Simpson's method here\n",
    "def simp_method(f,a,b,N):\n",
    "    # f == function that will be integrated\n",
    "    # a == lower limit of integration\n",
    "    # b == upper limit of integration\n",
    "    # N == number of function evaluations that will be used\n",
    "    # note that the number of chuncks will be N-1\n",
    "    # so if N is odd, then we don't need to adjust the last segment\n",
    "    \n",
    "    #define x values to perform the Simpson's Rule\n",
    "    x = np.linspace(a,b,N)\n",
    "    h = x[1]-x[0]\n",
    "    \n",
    "    #define the value of the integral\n",
    "    Fint = 0.0\n",
    "    \n",
    "    #perform the integral using Simpson's Method\n",
    "    for i in range(0, len(x)-2,2):\n",
    "        Fint += simp_core(f,x[-2],0.5*h)\n",
    "    \n",
    "    #apply simpson's rule over the last interval\n",
    "    ##if N is even:\n",
    "    if(N%2==0):\n",
    "        Fint += simp_core(f,x[-2],0.5*h)\n",
    "        \n",
    "    #return the answer\n",
    "    return Fint"
   ]
  },
  {
   "cell_type": "markdown",
   "id": "apparent-philippines",
   "metadata": {},
   "source": [
    "### ROMBERG INTEGRATION"
   ]
  },
  {
   "cell_type": "code",
   "execution_count": null,
   "id": "recovered-groove",
   "metadata": {},
   "outputs": [],
   "source": [
    "#Similarly to the other methods, we will start by defining the Romberg Core\n",
    "def romberg_core(f,a,b,i):\n",
    "    #we need the difference to be b-a\n",
    "    h = b-a\n",
    "    \n",
    "    #we need the increments between new function evaluations\n",
    "    dh = h/2**(i)\n",
    "    \n",
    "    #we need a cofactor\n",
    "    K = h/2**(i+1)\n",
    "    \n",
    "    #and the function evaluations\n",
    "    M = 0.0\n",
    "    for j in range(2**i):\n",
    "        M += f(a + 0.5*dh + j*dh)\n",
    "    \n",
    "    #return the answer\n",
    "    return K*M"
   ]
  },
  {
   "cell_type": "code",
   "execution_count": null,
   "id": "engaging-locator",
   "metadata": {},
   "outputs": [],
   "source": [
    "#Now we will define the Romberg Method\n",
    "def romberg_integration(f,a,b,tol):\n",
    "    \n",
    "    #define the iteration variable\n",
    "    i = 0\n",
    "    \n",
    "    #define a maximum number of iterations\n",
    "    imax = 1000000\n",
    "    \n",
    "    #define an error estimate, set to a large value\n",
    "    delta = 100*np.fabs(tol)\n",
    "    \n",
    "    #set an array of integral answers\n",
    "    I = np.zeros(imax,dtype=float)\n",
    "    \n",
    "    #get the zeroth romberg iteration\n",
    "    I[0] = 05.*(b-a)*(f(a) + f(b))\n",
    "    \n",
    "    #iterate by 1\n",
    "    i += 1\n",
    "    \n",
    "    while(delta>tol):\n",
    "        \n",
    "        #find this romber iteration\n",
    "        I[i] = 0.5*I[i-1] + romberg_core(f,a,b,i)\n",
    "        \n",
    "        #compute the new fractional error estimate\n",
    "        delta = np.fabs((I[i] - I[i-1])/I[i])\n",
    "        \n",
    "        print(i,I[i],I[i-1],delta)\n",
    "        \n",
    "        if (delta>tol):\n",
    "            #iterate\n",
    "            i += 1\n",
    "            \n",
    "            #if we've reached the maximum iterations\n",
    "            if(i>imax):\n",
    "                print(\"Max iterations reached.\")\n",
    "                raise StopIteration('Stopping iterations after ', i)\n",
    "                \n",
    "        #return the answer\n",
    "        return I[i]"
   ]
  },
  {
   "cell_type": "markdown",
   "id": "abandoned-reliance",
   "metadata": {},
   "source": [
    "#### NOW WE WILL CHECK THE INTEGRALS"
   ]
  },
  {
   "cell_type": "code",
   "execution_count": null,
   "id": "permanent-north",
   "metadata": {},
   "outputs": [],
   "source": [
    "#Note that our answer is:\n",
    "Answer = fun_integral(np.pi) - fun_integral(0)\n",
    "print(\"Our actual answer is supposed to be: \", Answer)\n",
    "print(\"Trapezoid Method\")\n",
    "print(trap_method(func,0,np.pi,100000))\n",
    "print(\"Simpson's Method\")\n",
    "print(simp_method(func,0,np.pi,100000))\n",
    "print(\"Romberg Method\")\n",
    "tolerance = 1.0e-6\n",
    "RI = romberg_integration(func,0,np.pi,tolerance)\n",
    "print(RI, (RI-Answer)/Answer, tolerance)"
   ]
  },
  {
   "cell_type": "markdown",
   "id": "powerful-delaware",
   "metadata": {},
   "source": [
    "My Romberg Integration only goes through 1 iteration. It takes about 1,000,000 iterations for my trapezoid method to converge, althought it get anywhere close to my answer. Similarly with my Simpson's method, it takes 1,000,000 iterations for it to converge and it turns out to be the closest to my actual answer."
   ]
  }
 ],
 "metadata": {
  "kernelspec": {
   "display_name": "Python 3",
   "language": "python",
   "name": "python3"
  },
  "language_info": {
   "codemirror_mode": {
    "name": "ipython",
    "version": 3
   },
   "file_extension": ".py",
   "mimetype": "text/x-python",
   "name": "python",
   "nbconvert_exporter": "python",
   "pygments_lexer": "ipython3",
   "version": "3.8.5"
  }
 },
 "nbformat": 4,
 "nbformat_minor": 5
}
